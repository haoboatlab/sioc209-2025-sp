{
 "cells": [
  {
   "cell_type": "markdown",
   "id": "7602f877",
   "metadata": {},
   "source": [
    "# Plankton Classification Exercises"
   ]
  },
  {
   "cell_type": "markdown",
   "id": "f3ff84d4",
   "metadata": {},
   "source": []
  }
 ],
 "metadata": {
  "language_info": {
   "name": "python"
  }
 },
 "nbformat": 4,
 "nbformat_minor": 5
}
