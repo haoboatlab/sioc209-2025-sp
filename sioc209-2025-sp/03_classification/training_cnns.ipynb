{
 "cells": [
  {
   "cell_type": "markdown",
   "id": "6cd9b09a",
   "metadata": {},
   "source": [
    "# Practical Issues Training CNNs"
   ]
  },
  {
   "cell_type": "markdown",
   "id": "84c44bb2",
   "metadata": {},
   "source": []
  }
 ],
 "metadata": {
  "language_info": {
   "name": "python"
  }
 },
 "nbformat": 4,
 "nbformat_minor": 5
}
