{
 "cells": [
  {
   "cell_type": "markdown",
   "id": "343fcdfa",
   "metadata": {},
   "source": [
    "# Introducing Deep Learning"
   ]
  },
  {
   "cell_type": "markdown",
   "id": "89303807",
   "metadata": {},
   "source": []
  }
 ],
 "metadata": {
  "language_info": {
   "name": "python"
  }
 },
 "nbformat": 4,
 "nbformat_minor": 5
}
