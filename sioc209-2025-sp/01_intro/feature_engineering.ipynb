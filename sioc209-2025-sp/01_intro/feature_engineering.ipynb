{
 "cells": [
  {
   "cell_type": "markdown",
   "id": "5bcc0208",
   "metadata": {},
   "source": [
    "# Feature Engineering"
   ]
  },
  {
   "cell_type": "markdown",
   "id": "479dcb13",
   "metadata": {},
   "source": []
  }
 ],
 "metadata": {
  "language_info": {
   "name": "python"
  }
 },
 "nbformat": 4,
 "nbformat_minor": 5
}
