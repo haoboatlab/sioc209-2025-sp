{
 "cells": [
  {
   "cell_type": "markdown",
   "metadata": {},
   "source": [
    "## Assignment 2: Plankton classification"
   ]
  },
  {
   "cell_type": "markdown",
   "metadata": {},
   "source": [
    "In this assignment, you will be working with Jeff Ellen's Plankton dataset, which contains images of plankton. The dataset is available on Google Drive through the link on Canvas. The goal is to classify the plankton images into one of multiple classes.\n",
    "\n",
    "#### Objectives:\n",
    "- Understand the dataset and the problem of classifying plankton images.\n",
    "- Explore and adjust the baseline model to enhance performance to learn the effects of key hyperparameters.\n",
    "- Analyze and report on the effectiveness of model adjustments."
   ]
  },
  {
   "cell_type": "markdown",
   "metadata": {},
   "source": [
    "\n",
    "#### Assignment Details:\n",
    "1. **Introduction (10% of grade)**\n",
    "   - Provide a brief overview of the task and its importance in environmental science (1-2 sentences).\n",
    "\n",
    "2. **Model Exploration (30% of grade)**\n",
    "   - Describe the baseline model and dataset:\n",
    "     - Model architecture and reasoning behind its suitability for the task.\n",
    "     - Current performance metrics.\n",
    "   - Implement the model using the provided dataset.\n",
    "\n",
    "3. **Model Adjustment (40% of grade)**\n",
    "   - Make at least two significant adjustments to the model to improve performance. Adjustments might include:\n",
    "     - Changing model parameters (e.g., number of layers, hidden units, etc).\n",
    "     - Modifying the input features (e.g., adding new features, transforming existing features).\n",
    "     - Applying different data pre-processing and augmentation techniques\n",
    "   - Justify each adjustment based on theoretical or empirical evidence.\n",
    "\n",
    "4. **Results Analysis (15% of grade)**\n",
    "   - Compare the performance of the original and adjusted models using appropriate statistical metrics (e.g., precision, recall, F1-score).\n",
    "   - Discuss the effectiveness of each adjustment in improving the model's performance.\n",
    "\n",
    "5. **Conclusion (5% of grade)**\n",
    "   - Summarize key findings and lessons learned from the model adjustments.\n",
    "   - Suggest potential future work."
   ]
  },
  {
   "cell_type": "markdown",
   "metadata": {},
   "source": [
    "\n",
    "#### Rubric:\n",
    "- **Introduction**\n",
    "  - Clarity and completeness of the overview (5%)\n",
    "  - Understanding of the task's relevance (5%)\n",
    "\n",
    "- **Model Exploration**\n",
    "  - Accuracy and detail in the description of each model (10%)\n",
    "  - Correct implementation and reporting of baseline model performance (20%)\n",
    "\n",
    "- **Model Adjustment**\n",
    "  - Creativity and appropriateness of model adjustments (20%)\n",
    "  - Justification of adjustments (10%)\n",
    "  - Implementation accuracy (10%)\n",
    "\n",
    "- **Results Analysis**\n",
    "  - Clarity and accuracy in comparing model performances (10%)\n",
    "  - Depth of discussion on model improvements (5%)\n",
    "\n",
    "- **Conclusion**\n",
    "  - Effectiveness of summary and reflection on the assignment (5%)\n"
   ]
  },
  {
   "cell_type": "markdown",
   "metadata": {},
   "source": [
    "### Submission Guidelines:\n",
    "- Format: Jupyter Notebook with annotations and text descriptions inline. Roughly 5-15 pages, including code and figures, if it were printed.\n",
    "- Deadline: **1 week from the assignment date.**"
   ]
  }
 ],
 "metadata": {
  "language_info": {
   "name": "python"
  }
 },
 "nbformat": 4,
 "nbformat_minor": 2
}
