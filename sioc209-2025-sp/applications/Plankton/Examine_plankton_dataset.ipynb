{
  "nbformat": 4,
  "nbformat_minor": 0,
  "metadata": {
    "colab": {
      "provenance": []
    },
    "kernelspec": {
      "name": "python3",
      "display_name": "Python 3"
    },
    "language_info": {
      "name": "python"
    }
  },
  "cells": [
    {
      "cell_type": "markdown",
      "source": [
        "#Notebook Purpose\n",
        "Examine the plankton dataset provided by [Prof Mark Ohman](https://mohman.scrippsprofiles.ucsd.edu/) and Dr. Jeff Ellen to the SIOC-209 Spring 2024 class \"Deep Learning for Geo/Environmental sciences\"\n",
        "\n",
        "#Setup the Google Drive Permissions\n",
        "Before executing the code below, I did the following:\n",
        "In google drive, 'Shared with me', I located 'SIOC-209 Data' folder then click :\n",
        "\n",
        "\n",
        "```\n",
        " '...'->Organize->Add Shortcut, chose 'Colab Notebooks'\n",
        "```\n",
        "\n",
        "Afer I did this, I then needed to accept the following dialog\n",
        "\n",
        "![colab_to_drive_access.png](data:image/png;base64,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)\n",
        "\n",
        "Then, after this, I had to accept another modal/popup dialog.\n",
        "\n",
        "Once this is done, then the following code should work."
      ],
      "metadata": {
        "id": "Ds2iFetBpo6E"
      }
    },
    {
      "cell_type": "code",
      "execution_count": 1,
      "metadata": {
        "colab": {
          "base_uri": "https://urldefense.com/v3/__https://localhost:8080/__;!!Mih3wA!E1H6BIxHfGysstb5Ked8v_qXy3gK7ZPPE5eAiyK11W6wZD-IcOJey0oelfnOrbn1NDgy46IE48ZpZDtC1sgWlw$ "
        },
        "id": "Elcp2q4BDu8S",
        "outputId": "bdfd2817-b384-4a50-c6d8-bdd772b67f61"
      },
      "outputs": [
        {
          "output_type": "stream",
          "name": "stdout",
          "text": [
            "Mounted at /content/drive\n",
            "['sioc_209_15k.zip', 'sioc_209_30k.zip', 'sioc_209_images', 'individually_uploaded_sioc_209_15k', 'individually_uploaded_sioc_209_30k', 'sioc_209_15k', 'sioc_209_30k']\n"
          ]
        }
      ],
      "source": [
        "#Before executing the code below, I did the following:\n",
        "#In google drive, 'Shared with me', I located 'SIOC-209 Data' folder\n",
        "#  then click '...'->Organize->Add Shortcut, chose 'Colab Notebooks'\n",
        "\n",
        "import os\n",
        "from google.colab import drive\n",
        "\n",
        "#On first execution, may encounter authentication modal/popup dialog\n",
        "drive.mount('/content/drive', force_remount=True)\n",
        "\n",
        "#The following line works because of the setup done at the top of the cell\n",
        "directory_files = os.listdir('/content/drive/MyDrive/Colab Notebooks/SIOC-209 Data/plankton_data')\n",
        "print(directory_files)\n",
        "\n",
        "#this should print:\n",
        "#['sioc_209_15k.zip', 'sioc_209_30k.zip', 'sioc_209_images', 'sioc_209_30k', 'sioc_209_15k']"
      ]
    },
    {
      "cell_type": "code",
      "source": [
        "#Optional Step for unzipping the files, for example to your own directory\n",
        "#This took approx 5-10 minutes to execute\n",
        "import os\n",
        "from google.colab import drive\n",
        "\n",
        "!unzip -u \"/content/drive/MyDrive/Colab Notebooks/SIOC-209 Data/plankton_data/sioc_209_15k.zip\" -d \"/content/drive/MyDrive/Colab Notebooks/\"\n",
        "!unzip -u \"/content/drive/MyDrive/Colab Notebooks/SIOC-209 Data/plankton_data/sioc_209_30k.zip\" -d \"/content/drive/MyDrive/Colab Notebooks/\"\n"
      ],
      "metadata": {
        "id": "xsbBarVW1UiG",
        "colab": {
          "base_uri": "https://urldefense.com/v3/__https://localhost:8080/__;!!Mih3wA!E1H6BIxHfGysstb5Ked8v_qXy3gK7ZPPE5eAiyK11W6wZD-IcOJey0oelfnOrbn1NDgy46IE48ZpZDtC1sgWlw$ "
        },
        "outputId": "c1d15030-b125-43dd-b758-78af6d30d99f"
      },
      "execution_count": 2,
      "outputs": [
        {
          "output_type": "stream",
          "name": "stdout",
          "text": [
            "Archive:  /content/drive/MyDrive/Colab Notebooks/SIOC-209 Data/plankton_data/sioc_209_15k.zip\n",
            "Archive:  /content/drive/MyDrive/Colab Notebooks/SIOC-209 Data/plankton_data/sioc_209_30k.zip\n"
          ]
        }
      ]
    },
    {
      "cell_type": "code",
      "source": [
        "#Count the images provided in the dataset\n",
        "import os, random\n",
        "from google.colab import drive\n",
        "\n",
        "drive.mount('/content/drive', force_remount=True)\n",
        "set_15k = '/content/drive/MyDrive/Colab Notebooks/SIOC-209 Data/plankton_data/sioc_209_15k'\n",
        "set_30k = '/content/drive/MyDrive/Colab Notebooks/SIOC-209 Data/plankton_data/sioc_209_30k'\n",
        "\n",
        "#For each dataset, count up the total number of categories and iamges\n",
        "for d in [set_15k, set_30k]:\n",
        "  all_cats = sorted(os.listdir(d))\n",
        "  print(f'---Counting {d}')\n",
        "  set_total = 0\n",
        "  num_cats = 0\n",
        "  paren_count = 0\n",
        "  for cat in all_cats:\n",
        "    cat_dir = os.path.join(d, cat)\n",
        "    cat_count = len(os.listdir(cat_dir))\n",
        "    num_cats += 1\n",
        "    set_total += cat_count\n",
        "    print(f'Category {cat} image count = {cat_count}')\n",
        "  print(f'   === Datset total is {num_cats} categories and {set_total} images')\n"
      ],
      "metadata": {
        "id": "nmG9_UKxs03l"
      },
      "execution_count": null,
      "outputs": []
    },
    {
      "cell_type": "code",
      "source": [
        "\n",
        "#Explore the images in the dataset, create image strips\n",
        "\n",
        "import os, random\n",
        "from google.colab import drive\n",
        "from PIL import Image, ImageDraw, ImageFont\n",
        "from IPython.display import display\n",
        "\n",
        "def get_image_height(img):\n",
        "  \"\"\"A helper function to sort images\"\"\"\n",
        "  return img.height\n",
        "\n",
        "def create_image_strips(src_dir, col_size=10):\n",
        "  \"\"\"\n",
        "  This function creates strips of images in the plankton dataset.\n",
        "  In my google colab, takes about\n",
        "\n",
        "  Args:\n",
        "      src_dir (str): The root directory of plankton images\n",
        "      col_size (int): The number of example images to create\n",
        "\n",
        "  Returns:\n",
        "      none: In a python notebook, just displays the images\n",
        "\n",
        "  \"\"\"\n",
        "  all_cls = sorted(os.listdir(src_dir))  #get all classes alphabetically\n",
        "\n",
        "  #For each category (cat), select a random sample of all the images to display\n",
        "  for cat in all_cls:\n",
        "    cat_dir = os.path.join(src_dir, cat)\n",
        "    all_roi = os.listdir(cat_dir)\n",
        "    sel_roi = random.sample(all_roi, col_size)\n",
        "\n",
        "    #Open all the images, sort them by height\n",
        "    cat_imgs = [Image.open(os.path.join(cat_dir, sr)).convert(\"RGB\") for sr in sel_roi]\n",
        "    cat_imgs.sort(key=lambda path: get_image_height(path), reverse=False)\n",
        "\n",
        "    #Calculate the size of the total image strip (cumulative width x max height)\n",
        "    tot_width = 0\n",
        "    max_height = 10\n",
        "    for img in cat_imgs:\n",
        "      tot_width+=img.width\n",
        "      if img.height > max_height:\n",
        "        max_height = img.height\n",
        "\n",
        "    #Calcuate the size of a text label for the class, use it to create\n",
        "    text_margin=5\n",
        "    default_font = ImageFont.load_default()\n",
        "    whole_image = Image.new(\"RGB\", (1000, max_height))\n",
        "    draw = ImageDraw.Draw(whole_image)  #this one will get discarded, used for bbox\n",
        "    bbox = draw.textbbox((text_margin, text_margin), cat, font=default_font)\n",
        "    left, top, right, bottom = bbox\n",
        "    text_width = right-left\n",
        "    text_height = bottom-top #in python image coordinates start at top left\n",
        "    x_offset = text_margin + text_width + text_margin\n",
        "\n",
        "    #create the Image Strip, add the text on the left, then add all images\n",
        "    whole_image = Image.new(\"RGB\", (tot_width+x_offset, max_height))\n",
        "    draw = ImageDraw.Draw(whole_image)\n",
        "    draw.text((text_margin, (max_height - text_height) // 2), cat, font=default_font, fill=(200,200,200))\n",
        "    for img in cat_imgs:\n",
        "      whole_image.paste(img, (x_offset, 0))\n",
        "      x_offset+=img.width\n",
        "\n",
        "    display(whole_image)\n",
        "    #or save the image using something similar to:\n",
        "    #whole_image.save(os.path.join(out_dir,f'{cat}.png'))\n",
        "\n",
        "### Start of 'main' function\n",
        "drive.mount('/content/drive', force_remount=True)   #Make files accessible\n",
        "random.seed(42)  # Set a fixed seed for reproducibility\n",
        "\n",
        "#confirm this is correct using cell above\n",
        "src_dir = '/content/drive/MyDrive/Colab Notebooks/SIOC-209 Data/plankton_data/sioc_209_15k'\n",
        "create_image_strips(src_dir)"
      ],
      "metadata": {
        "id": "Bpi42NvPN0hq"
      },
      "execution_count": null,
      "outputs": []
    },
    {
      "cell_type": "code",
      "source": [],
      "metadata": {
        "id": "80WgzwiejA2v"
      },
      "execution_count": null,
      "outputs": []
    }
  ]
}