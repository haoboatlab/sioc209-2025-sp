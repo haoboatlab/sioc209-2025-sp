{
 "cells": [
  {
   "cell_type": "markdown",
   "metadata": {},
   "source": [
    "### Assignment 1: Model Exploration and Adjustment on ClimateBench\n"
   ]
  },
  {
   "cell_type": "markdown",
   "metadata": {},
   "source": [
    "This assignment encourages a thorough exploration of machine learning techniques in the context of climate science, focusing on hands-on experience and critical analysis. You will be working with the [ClimateBench](https://agupubs.onlinelibrary.wiley.com/doi/full/10.1029/2021MS002954) dataset, which contains inputs and associated climate model output from a full complexity Earth System Model.\n",
    "\n",
    "#### Objectives:\n",
    "- Understand the application of different machine learning models to climate-related regression tasks.\n",
    "- Explore and adjust baseline models (Random Forest, Gaussian Process Regression, CNN-LSTM) to enhance performance.\n",
    "- Analyze and report on the effectiveness of model adjustments.\n"
   ]
  },
  {
   "cell_type": "markdown",
   "metadata": {},
   "source": [
    "\n",
    "#### Assignment Details:\n",
    "1. **Introduction (10% of grade)**\n",
    "   - Provide a brief overview of ClimateBench and its importance in environmental science (1-2 sentences).\n",
    "   - Explain the significance of regressing aerosol and greenhouse gas emissions onto climate model temperature responses (1-2 sentences).\n",
    "\n",
    "2. **Model Exploration (30% of grade)**\n",
    "   - Describe each baseline model (Random Forest, Gaussian Process Regression, CNN-LSTM):\n",
    "     - Model architecture and reasoning behind its suitability for the task.\n",
    "     - Current performance metrics provided by ClimateBench.\n",
    "   - Implement each model using a provided dataset from ClimateBench.\n",
    "\n",
    "3. **Model Adjustment (40% of grade)**\n",
    "   - Make at least two significant adjustments to *one* model to improve performance. Adjustments might include:\n",
    "     - Changing model parameters (e.g., number of layers, hidden units, kernel functions).\n",
    "     - Modifying the input features (e.g., adding new features, transforming existing features).\n",
    "     - Applying different data pre-processing techniques.\n",
    "   - Justify each adjustment based on theoretical or empirical evidence.\n",
    "\n",
    "4. **Results Analysis (15% of grade)**\n",
    "   - Compare the performance of the original and adjusted models using appropriate statistical metrics (e.g., RMSE, MAE, R-squared).\n",
    "   - Discuss the effectiveness of each adjustment in improving the model's performance.\n",
    "\n",
    "5. **Conclusion (5% of grade)**\n",
    "   - Summarize key findings and lessons learned from the model adjustments.\n",
    "   - Suggest potential future work in applying machine learning to climate science based on the results obtained.\n"
   ]
  },
  {
   "cell_type": "markdown",
   "metadata": {},
   "source": [
    "\n",
    "#### Rubric:\n",
    "- **Introduction**\n",
    "  - Clarity and completeness of the overview (5%)\n",
    "  - Understanding of the task's relevance (5%)\n",
    "\n",
    "- **Model Exploration**\n",
    "  - Accuracy and detail in the description of each model (10%)\n",
    "  - Correct implementation and reporting of baseline model performance (20%)\n",
    "\n",
    "- **Model Adjustment**\n",
    "  - Creativity and appropriateness of model adjustments (20%)\n",
    "  - Justification of adjustments (10%)\n",
    "  - Implementation accuracy (10%)\n",
    "\n",
    "- **Results Analysis**\n",
    "  - Clarity and accuracy in comparing model performances (10%)\n",
    "  - Depth of discussion on model improvements (5%)\n",
    "\n",
    "- **Conclusion**\n",
    "  - Effectiveness of summary and reflection on the assignment (5%)\n"
   ]
  },
  {
   "cell_type": "markdown",
   "metadata": {},
   "source": [
    "### Submission Guidelines:\n",
    "- Format: Jupyter Notebook with annotations and text descriptions inline. Roughly 5-15 pages, including code and figures, if it were printed.\n",
    "- Deadline: **1 week from the assignment date.**"
   ]
  },
  {
   "cell_type": "markdown",
   "metadata": {},
   "source": [
    "## Environment and data specifics\n",
    "\n",
    "To run the baseline models you will need a few specific packages, many of which you should already have installed. If you're using Google Colab (see the getting started notes [here](../../00_setup/python_env_setup.md)) you can install the necessary packages with:\n",
    "\n",
    "```python\n",
    "pip install xarray esem[keras,gpflow] eofs cartopy\n",
    "```"
   ]
  },
  {
   "cell_type": "markdown",
   "metadata": {},
   "source": [
    "You will also need to import the `utils.py` module included in [this](utils.py) repo. You can just download it and drag it into Colab to import it in your notebook."
   ]
  },
  {
   "cell_type": "markdown",
   "metadata": {},
   "source": [
    "The training and test data is all included in Google Drive in the `ClimateBench` folder linked to from Canvas. You can mount the drive in Colab with the following code:\n",
    "\n",
    "```python\n",
    "from google.colab import drive\n",
    "drive.mount('/content/drive')\n",
    "```"
   ]
  },
  {
   "cell_type": "markdown",
   "metadata": {},
   "source": [
    "Once you've done this be sure to point the `data_path` variable in the `utils.py` module to the correct location on your Google Drive, it should be something like:\n",
    "```python\n",
    "data_path = \"/content/drive/Shareddrives/SOPC-209 Data/ClimateBench/train_val_updated/\"\n",
    "```"
   ]
  },
  {
   "cell_type": "markdown",
   "metadata": {},
   "source": []
  }
 ],
 "metadata": {
  "language_info": {
   "name": "python"
  }
 },
 "nbformat": 4,
 "nbformat_minor": 2
}
