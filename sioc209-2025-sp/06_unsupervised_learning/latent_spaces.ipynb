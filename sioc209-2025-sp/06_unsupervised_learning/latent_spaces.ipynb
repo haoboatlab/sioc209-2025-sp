{
 "cells": [
  {
   "cell_type": "markdown",
   "id": "9e9a2c0a",
   "metadata": {},
   "source": [
    "# Latent (embedding) Spaces"
   ]
  },
  {
   "cell_type": "markdown",
   "id": "a82384f7",
   "metadata": {},
   "source": []
  }
 ],
 "metadata": {
  "language_info": {
   "name": "python"
  }
 },
 "nbformat": 4,
 "nbformat_minor": 5
}
