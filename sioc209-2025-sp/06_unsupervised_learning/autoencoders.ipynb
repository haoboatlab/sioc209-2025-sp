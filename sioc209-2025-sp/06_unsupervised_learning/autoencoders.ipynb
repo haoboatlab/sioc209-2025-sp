{
 "cells": [
  {
   "cell_type": "markdown",
   "id": "4d33685a",
   "metadata": {},
   "source": [
    "# Variational Auto-Encoders"
   ]
  },
  {
   "cell_type": "markdown",
   "id": "ca04913b",
   "metadata": {},
   "source": []
  }
 ],
 "metadata": {
  "language_info": {
   "name": "python"
  }
 },
 "nbformat": 4,
 "nbformat_minor": 5
}
