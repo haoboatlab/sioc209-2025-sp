{
 "cells": [
  {
   "cell_type": "markdown",
   "id": "8ac4f26f",
   "metadata": {},
   "source": [
    "# Clustering Satellite Images Exercises"
   ]
  },
  {
   "cell_type": "markdown",
   "id": "b0dbf6b8",
   "metadata": {},
   "source": []
  }
 ],
 "metadata": {
  "language_info": {
   "name": "python"
  }
 },
 "nbformat": 4,
 "nbformat_minor": 5
}
