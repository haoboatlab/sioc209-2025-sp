{
 "cells": [
  {
   "cell_type": "markdown",
   "id": "e91d18f1",
   "metadata": {},
   "source": [
    "# Acoustic Detection Exercises"
   ]
  },
  {
   "cell_type": "markdown",
   "id": "3d04de2d",
   "metadata": {},
   "source": []
  }
 ],
 "metadata": {
  "language_info": {
   "name": "python"
  }
 },
 "nbformat": 4,
 "nbformat_minor": 5
}
