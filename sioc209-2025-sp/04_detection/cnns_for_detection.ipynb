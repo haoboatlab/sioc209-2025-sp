{
 "cells": [
  {
   "cell_type": "markdown",
   "id": "851beba9",
   "metadata": {},
   "source": [
    "# Using CNNs for Object Detection"
   ]
  },
  {
   "cell_type": "markdown",
   "id": "89a93fb3",
   "metadata": {},
   "source": []
  }
 ],
 "metadata": {
  "language_info": {
   "name": "python"
  }
 },
 "nbformat": 4,
 "nbformat_minor": 5
}
