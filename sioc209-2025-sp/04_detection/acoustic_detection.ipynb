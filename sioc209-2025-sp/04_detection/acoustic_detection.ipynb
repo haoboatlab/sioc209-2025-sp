{
 "cells": [
  {
   "cell_type": "markdown",
   "id": "0c343eaa",
   "metadata": {},
   "source": [
    "# Acoustic Detection"
   ]
  },
  {
   "cell_type": "markdown",
   "id": "a074eac9",
   "metadata": {},
   "source": []
  }
 ],
 "metadata": {
  "language_info": {
   "name": "python"
  }
 },
 "nbformat": 4,
 "nbformat_minor": 5
}
